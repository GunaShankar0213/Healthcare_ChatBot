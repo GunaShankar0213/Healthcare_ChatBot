{
  "cells": [
    {
      "cell_type": "code",
      "execution_count": null,
      "id": "b1e27a30",
      "metadata": {
        "execution": {
          "iopub.execute_input": "2023-05-31T06:06:46.524461Z",
          "iopub.status.busy": "2023-05-31T06:06:46.523585Z",
          "iopub.status.idle": "2023-05-31T06:07:05.670743Z",
          "shell.execute_reply": "2023-05-31T06:07:05.669756Z"
        },
        "papermill": {
          "duration": 19.159724,
          "end_time": "2023-05-31T06:07:05.673711",
          "exception": false,
          "start_time": "2023-05-31T06:06:46.513987",
          "status": "completed"
        },
        "tags": [],
        "id": "b1e27a30",
        "outputId": "5457ed55-7841-4c29-9bb7-a3ec2516d6b9"
      },
      "outputs": [
        {
          "name": "stderr",
          "output_type": "stream",
          "text": [
            "/opt/conda/lib/python3.10/site-packages/tensorflow_io/python/ops/__init__.py:98: UserWarning: unable to load libtensorflow_io_plugins.so: unable to open file: libtensorflow_io_plugins.so, from paths: ['/opt/conda/lib/python3.10/site-packages/tensorflow_io/python/ops/libtensorflow_io_plugins.so']\n",
            "caused by: ['/opt/conda/lib/python3.10/site-packages/tensorflow_io/python/ops/libtensorflow_io_plugins.so: undefined symbol: _ZN3tsl6StatusC1EN10tensorflow5error4CodeESt17basic_string_viewIcSt11char_traitsIcEENS_14SourceLocationE']\n",
            "  warnings.warn(f\"unable to load libtensorflow_io_plugins.so: {e}\")\n",
            "/opt/conda/lib/python3.10/site-packages/tensorflow_io/python/ops/__init__.py:104: UserWarning: file system plugins are not loaded: unable to open file: libtensorflow_io.so, from paths: ['/opt/conda/lib/python3.10/site-packages/tensorflow_io/python/ops/libtensorflow_io.so']\n",
            "caused by: ['/opt/conda/lib/python3.10/site-packages/tensorflow_io/python/ops/libtensorflow_io.so: undefined symbol: _ZTVN10tensorflow13GcsFileSystemE']\n",
            "  warnings.warn(f\"file system plugins are not loaded: {e}\")\n"
          ]
        }
      ],
      "source": [
        "import os\n",
        "import re\n",
        "import numpy as np\n",
        "import pandas as pd\n",
        "from time import time\n",
        "import matplotlib.pyplot as plt\n",
        "import tensorflow as tf\n",
        "\n",
        "#!pip install tensorflow-datasets==1.2.0\n",
        "import tensorflow_datasets as tfds"
      ]
    },
    {
      "cell_type": "code",
      "execution_count": null,
      "id": "2255107f",
      "metadata": {
        "execution": {
          "iopub.execute_input": "2023-05-31T06:07:05.692218Z",
          "iopub.status.busy": "2023-05-31T06:07:05.690885Z",
          "iopub.status.idle": "2023-05-31T06:07:05.715332Z",
          "shell.execute_reply": "2023-05-31T06:07:05.714153Z"
        },
        "papermill": {
          "duration": 0.035713,
          "end_time": "2023-05-31T06:07:05.717496",
          "exception": false,
          "start_time": "2023-05-31T06:07:05.681783",
          "status": "completed"
        },
        "tags": [],
        "id": "2255107f",
        "outputId": "bc70a882-442a-4d9e-e544-7a8afaecd0db"
      },
      "outputs": [
        {
          "name": "stdout",
          "output_type": "stream",
          "text": [
            "REPLICAS: 1\n"
          ]
        }
      ],
      "source": [
        "try:\n",
        "    tpu = tf.distribute.cluster_resolver.TPUClusterResolver()\n",
        "    print('Running on TPU {}'.format(tpu.cluster_spec().as_dict()['worker']))\n",
        "except ValueError:\n",
        "    tpu = None\n",
        "\n",
        "if tpu:\n",
        "    tf.config.experimental_connect_to_cluster(tpu)\n",
        "    tf.tpu.experimental.initialize_tpu_system(tpu)\n",
        "    strategy = tf.distribute.experimental.TPUStrategy(tpu)\n",
        "else:\n",
        "    strategy = tf.distribute.get_strategy()\n",
        "\n",
        "print(\"REPLICAS: {}\".format(strategy.num_replicas_in_sync))"
      ]
    },
    {
      "cell_type": "code",
      "execution_count": null,
      "id": "691818f4",
      "metadata": {
        "execution": {
          "iopub.execute_input": "2023-05-31T06:07:05.734981Z",
          "iopub.status.busy": "2023-05-31T06:07:05.733632Z",
          "iopub.status.idle": "2023-05-31T06:07:05.739860Z",
          "shell.execute_reply": "2023-05-31T06:07:05.739044Z"
        },
        "papermill": {
          "duration": 0.016892,
          "end_time": "2023-05-31T06:07:05.741810",
          "exception": false,
          "start_time": "2023-05-31T06:07:05.724918",
          "status": "completed"
        },
        "tags": [],
        "id": "691818f4"
      },
      "outputs": [],
      "source": [
        "# Maximum sentence length\n",
        "MAX_LENGTH = 100\n",
        "\n",
        "# For tf.data.Dataset\n",
        "BATCH_SIZE = int(64 * strategy.num_replicas_in_sync)\n",
        "# BATCH_SIZE = 64\n",
        "BUFFER_SIZE = 20000\n",
        "\n",
        "# For Transformer\n",
        "NUM_LAYERS = 2 #6\n",
        "D_MODEL = 256 #512\n",
        "NUM_HEADS = 8\n",
        "UNITS = 512 #2048\n",
        "DROPOUT = 0.1\n",
        "\n",
        "EPOCHS = 500"
      ]
    },
    {
      "cell_type": "code",
      "execution_count": null,
      "id": "9d65eb2c",
      "metadata": {
        "execution": {
          "iopub.execute_input": "2023-05-31T06:07:05.758590Z",
          "iopub.status.busy": "2023-05-31T06:07:05.757989Z",
          "iopub.status.idle": "2023-05-31T06:07:05.923918Z",
          "shell.execute_reply": "2023-05-31T06:07:05.922888Z"
        },
        "papermill": {
          "duration": 0.177504,
          "end_time": "2023-05-31T06:07:05.926824",
          "exception": false,
          "start_time": "2023-05-31T06:07:05.749320",
          "status": "completed"
        },
        "tags": [],
        "id": "9d65eb2c"
      },
      "outputs": [],
      "source": [
        "def textPreprocess(input_text):\n",
        "\n",
        "  def removeAccents(input_text):\n",
        "      strange='ąćęłńóśżź'\n",
        "      ascii_replacements='acelnoszz'\n",
        "      translator=str.maketrans(strange,ascii_replacements)\n",
        "      return input_text.translate(translator)\n",
        "\n",
        "  def removeSpecial(input_text):\n",
        "      special='[^A-Za-z0-9 ]+'\n",
        "      return re.sub(special, '', input_text)\n",
        "\n",
        "  def removeTriplicated(input_text):\n",
        "      return re.compile(r'(.)\\1{2,}', re.IGNORECASE).sub(r'\\1', input_text)\n",
        "\n",
        "  return removeTriplicated(removeSpecial(removeAccents(input_text.lower())))\n",
        "\n",
        "\n",
        "df = pd.read_csv(\"content/Conversation.csv\")\n",
        "df['question'] = df['question'].apply(lambda x: textPreprocess(str(x)))\n",
        "df['answer'] = df['answer'].apply(lambda x: textPreprocess(str(x)))\n",
        "questions, answers = df['question'].tolist(), df['answer'].tolist()"
      ]
    },
    {
      "cell_type": "code",
      "execution_count": null,
      "id": "13ee75e3",
      "metadata": {
        "execution": {
          "iopub.execute_input": "2023-05-31T06:07:05.946630Z",
          "iopub.status.busy": "2023-05-31T06:07:05.945702Z",
          "iopub.status.idle": "2023-05-31T06:07:09.647794Z",
          "shell.execute_reply": "2023-05-31T06:07:09.646849Z"
        },
        "papermill": {
          "duration": 3.714162,
          "end_time": "2023-05-31T06:07:09.650217",
          "exception": false,
          "start_time": "2023-05-31T06:07:05.936055",
          "status": "completed"
        },
        "tags": [],
        "id": "13ee75e3"
      },
      "outputs": [],
      "source": [
        "# Build tokenizer using tfds for both questions and answers\n",
        "tokenizer = tfds.deprecated.text.SubwordTextEncoder.build_from_corpus(\n",
        "    questions + answers, target_vocab_size=2**13)\n",
        "\n",
        "# Define start and end token to indicate the start and end of a sentence\n",
        "START_TOKEN, END_TOKEN = [tokenizer.vocab_size], [tokenizer.vocab_size + 1]\n",
        "\n",
        "# Vocabulary size plus start and end token\n",
        "VOCAB_SIZE = tokenizer.vocab_size + 2"
      ]
    },
    {
      "cell_type": "code",
      "execution_count": null,
      "id": "457ca3e2",
      "metadata": {
        "execution": {
          "iopub.execute_input": "2023-05-31T06:07:09.667127Z",
          "iopub.status.busy": "2023-05-31T06:07:09.666813Z",
          "iopub.status.idle": "2023-05-31T06:07:09.914777Z",
          "shell.execute_reply": "2023-05-31T06:07:09.913780Z"
        },
        "papermill": {
          "duration": 0.259259,
          "end_time": "2023-05-31T06:07:09.917279",
          "exception": false,
          "start_time": "2023-05-31T06:07:09.658020",
          "status": "completed"
        },
        "tags": [],
        "id": "457ca3e2"
      },
      "outputs": [],
      "source": [
        "# Tokenize, filter and pad sentences\n",
        "def tokenize_and_filter(inputs, outputs):\n",
        "  tokenized_inputs, tokenized_outputs = [], []\n",
        "\n",
        "  for (sentence1, sentence2) in zip(inputs, outputs):\n",
        "    # tokenize sentence\n",
        "    sentence1 = START_TOKEN + tokenizer.encode(sentence1) + END_TOKEN\n",
        "    sentence2 = START_TOKEN + tokenizer.encode(sentence2) + END_TOKEN\n",
        "    # check tokenized sentence max length\n",
        "    if len(sentence1) <= MAX_LENGTH and len(sentence2) <= MAX_LENGTH:\n",
        "      tokenized_inputs.append(sentence1)\n",
        "      tokenized_outputs.append(sentence2)\n",
        "\n",
        "  # pad tokenized sentences\n",
        "  tokenized_inputs = tf.keras.preprocessing.sequence.pad_sequences(\n",
        "      tokenized_inputs, maxlen=MAX_LENGTH, padding='post')\n",
        "  tokenized_outputs = tf.keras.preprocessing.sequence.pad_sequences(\n",
        "      tokenized_outputs, maxlen=MAX_LENGTH, padding='post')\n",
        "\n",
        "  return tokenized_inputs, tokenized_outputs\n",
        "\n",
        "\n",
        "questions, answers = tokenize_and_filter(questions, answers)"
      ]
    },
    {
      "cell_type": "code",
      "execution_count": null,
      "id": "d0e9046a",
      "metadata": {
        "execution": {
          "iopub.execute_input": "2023-05-31T06:07:09.935494Z",
          "iopub.status.busy": "2023-05-31T06:07:09.934857Z",
          "iopub.status.idle": "2023-05-31T06:07:09.941815Z",
          "shell.execute_reply": "2023-05-31T06:07:09.940858Z"
        },
        "papermill": {
          "duration": 0.018369,
          "end_time": "2023-05-31T06:07:09.944159",
          "exception": false,
          "start_time": "2023-05-31T06:07:09.925790",
          "status": "completed"
        },
        "tags": [],
        "id": "d0e9046a",
        "outputId": "17dd918a-e36d-445e-a34d-865ec45c5808"
      },
      "outputs": [
        {
          "name": "stdout",
          "output_type": "stream",
          "text": [
            "Vocab size: 3650\n",
            "Number of samples: 3725\n"
          ]
        }
      ],
      "source": [
        "print('Vocab size: {}'.format(VOCAB_SIZE))\n",
        "print('Number of samples: {}'.format(len(questions)))"
      ]
    },
    {
      "cell_type": "code",
      "execution_count": null,
      "id": "00cb61f6",
      "metadata": {
        "execution": {
          "iopub.execute_input": "2023-05-31T06:07:09.960756Z",
          "iopub.status.busy": "2023-05-31T06:07:09.960468Z",
          "iopub.status.idle": "2023-05-31T06:07:15.712322Z",
          "shell.execute_reply": "2023-05-31T06:07:15.711317Z"
        },
        "papermill": {
          "duration": 5.763198,
          "end_time": "2023-05-31T06:07:15.714974",
          "exception": false,
          "start_time": "2023-05-31T06:07:09.951776",
          "status": "completed"
        },
        "tags": [],
        "id": "00cb61f6"
      },
      "outputs": [],
      "source": [
        "# decoder inputs use the previous target as input\n",
        "# remove START_TOKEN from targets\n",
        "dataset = tf.data.Dataset.from_tensor_slices((\n",
        "    {\n",
        "        'inputs': questions,\n",
        "        'dec_inputs': answers[:, :-1]\n",
        "    },\n",
        "    {\n",
        "        'outputs': answers[:, 1:]\n",
        "    },\n",
        "))\n",
        "\n",
        "dataset = dataset.cache()\n",
        "dataset = dataset.shuffle(BUFFER_SIZE)\n",
        "dataset = dataset.batch(BATCH_SIZE)\n",
        "dataset = dataset.prefetch(tf.data.experimental.AUTOTUNE)"
      ]
    },
    {
      "cell_type": "code",
      "execution_count": null,
      "id": "1ad6563e",
      "metadata": {
        "execution": {
          "iopub.execute_input": "2023-05-31T06:07:15.732452Z",
          "iopub.status.busy": "2023-05-31T06:07:15.731849Z",
          "iopub.status.idle": "2023-05-31T06:07:15.738740Z",
          "shell.execute_reply": "2023-05-31T06:07:15.737930Z"
        },
        "papermill": {
          "duration": 0.017876,
          "end_time": "2023-05-31T06:07:15.740886",
          "exception": false,
          "start_time": "2023-05-31T06:07:15.723010",
          "status": "completed"
        },
        "tags": [],
        "id": "1ad6563e"
      },
      "outputs": [],
      "source": [
        "def scaled_dot_product_attention(query, key, value, mask):\n",
        "  \"\"\"Calculate the attention weights. \"\"\"\n",
        "  matmul_qk = tf.matmul(query, key, transpose_b=True)\n",
        "\n",
        "  # scale matmul_qk\n",
        "  depth = tf.cast(tf.shape(key)[-1], tf.float32)\n",
        "  logits = matmul_qk / tf.math.sqrt(depth)\n",
        "\n",
        "  # add the mask to zero out padding tokens\n",
        "  if mask is not None:\n",
        "    logits += (mask * -1e9)\n",
        "\n",
        "  # softmax is normalized on the last axis (seq_len_k)\n",
        "  attention_weights = tf.nn.softmax(logits, axis=-1)\n",
        "\n",
        "  output = tf.matmul(attention_weights, value)\n",
        "\n",
        "  return output"
      ]
    },
    {
      "cell_type": "code",
      "execution_count": null,
      "id": "990af90f",
      "metadata": {
        "execution": {
          "iopub.execute_input": "2023-05-31T06:07:15.757770Z",
          "iopub.status.busy": "2023-05-31T06:07:15.757438Z",
          "iopub.status.idle": "2023-05-31T06:07:15.768349Z",
          "shell.execute_reply": "2023-05-31T06:07:15.767475Z"
        },
        "papermill": {
          "duration": 0.021723,
          "end_time": "2023-05-31T06:07:15.770358",
          "exception": false,
          "start_time": "2023-05-31T06:07:15.748635",
          "status": "completed"
        },
        "tags": [],
        "id": "990af90f"
      },
      "outputs": [],
      "source": [
        "class MultiHeadAttention(tf.keras.layers.Layer):\n",
        "\n",
        "  def __init__(self, d_model, num_heads, name=\"multi_head_attention\"):\n",
        "    super(MultiHeadAttention, self).__init__(name=name)\n",
        "    self.num_heads = num_heads\n",
        "    self.d_model = d_model\n",
        "\n",
        "    assert d_model % self.num_heads == 0\n",
        "\n",
        "    self.depth = d_model // self.num_heads\n",
        "\n",
        "    self.query_dense = tf.keras.layers.Dense(units=d_model)\n",
        "    self.key_dense = tf.keras.layers.Dense(units=d_model)\n",
        "    self.value_dense = tf.keras.layers.Dense(units=d_model)\n",
        "\n",
        "    self.dense = tf.keras.layers.Dense(units=d_model)\n",
        "\n",
        "  def split_heads(self, inputs, batch_size):\n",
        "    inputs = tf.reshape(\n",
        "        inputs, shape=(batch_size, -1, self.num_heads, self.depth))\n",
        "    return tf.transpose(inputs, perm=[0, 2, 1, 3])\n",
        "\n",
        "  def call(self, inputs):\n",
        "    query, key, value, mask = inputs['query'], inputs['key'], inputs[\n",
        "        'value'], inputs['mask']\n",
        "    batch_size = tf.shape(query)[0]\n",
        "\n",
        "    # linear layers\n",
        "    query = self.query_dense(query)\n",
        "    key = self.key_dense(key)\n",
        "    value = self.value_dense(value)\n",
        "\n",
        "    # split heads\n",
        "    query = self.split_heads(query, batch_size)\n",
        "    key = self.split_heads(key, batch_size)\n",
        "    value = self.split_heads(value, batch_size)\n",
        "\n",
        "    # scaled dot-product attention\n",
        "    scaled_attention = scaled_dot_product_attention(query, key, value, mask)\n",
        "\n",
        "    scaled_attention = tf.transpose(scaled_attention, perm=[0, 2, 1, 3])\n",
        "\n",
        "    # concatenation of heads\n",
        "    concat_attention = tf.reshape(scaled_attention,\n",
        "                                  (batch_size, -1, self.d_model))\n",
        "\n",
        "    # final linear layer\n",
        "    outputs = self.dense(concat_attention)\n",
        "\n",
        "    return outputs"
      ]
    },
    {
      "cell_type": "code",
      "execution_count": null,
      "id": "dd1fc41a",
      "metadata": {
        "execution": {
          "iopub.execute_input": "2023-05-31T06:07:15.787679Z",
          "iopub.status.busy": "2023-05-31T06:07:15.786802Z",
          "iopub.status.idle": "2023-05-31T06:07:15.798725Z",
          "shell.execute_reply": "2023-05-31T06:07:15.797942Z"
        },
        "papermill": {
          "duration": 0.022913,
          "end_time": "2023-05-31T06:07:15.800784",
          "exception": false,
          "start_time": "2023-05-31T06:07:15.777871",
          "status": "completed"
        },
        "tags": [],
        "id": "dd1fc41a"
      },
      "outputs": [],
      "source": [
        "def create_padding_mask(x):\n",
        "  mask = tf.cast(tf.math.equal(x, 0), tf.float32)\n",
        "  # (batch_size, 1, 1, sequence length)\n",
        "  return mask[:, tf.newaxis, tf.newaxis, :]\n",
        "\n",
        "\n",
        "def create_look_ahead_mask(x):\n",
        "  seq_len = tf.shape(x)[1]\n",
        "  look_ahead_mask = 1 - tf.linalg.band_part(tf.ones((seq_len, seq_len)), -1, 0)\n",
        "  padding_mask = create_padding_mask(x)\n",
        "  return tf.maximum(look_ahead_mask, padding_mask)\n",
        "\n",
        "class PositionalEncoding(tf.keras.layers.Layer):\n",
        "\n",
        "  def __init__(self, position, d_model):\n",
        "    super(PositionalEncoding, self).__init__()\n",
        "    self.pos_encoding = self.positional_encoding(position, d_model)\n",
        "\n",
        "  def get_angles(self, position, i, d_model):\n",
        "    angles = 1 / tf.pow(10000, (2 * (i // 2)) / tf.cast(d_model, tf.float32))\n",
        "    return position * angles\n",
        "\n",
        "  def positional_encoding(self, position, d_model):\n",
        "    angle_rads = self.get_angles(\n",
        "        position=tf.range(position, dtype=tf.float32)[:, tf.newaxis],\n",
        "        i=tf.range(d_model, dtype=tf.float32)[tf.newaxis, :],\n",
        "        d_model=d_model)\n",
        "    # apply sin to even index in the array\n",
        "    sines = tf.math.sin(angle_rads[:, 0::2])\n",
        "    # apply cos to odd index in the array\n",
        "    cosines = tf.math.cos(angle_rads[:, 1::2])\n",
        "\n",
        "    pos_encoding = tf.concat([sines, cosines], axis=-1)\n",
        "    pos_encoding = pos_encoding[tf.newaxis, ...]\n",
        "    return tf.cast(pos_encoding, tf.float32)\n",
        "\n",
        "  def call(self, inputs):\n",
        "    return inputs + self.pos_encoding[:, :tf.shape(inputs)[1], :]"
      ]
    },
    {
      "cell_type": "code",
      "execution_count": null,
      "id": "bab092ae",
      "metadata": {
        "execution": {
          "iopub.execute_input": "2023-05-31T06:07:15.818650Z",
          "iopub.status.busy": "2023-05-31T06:07:15.817920Z",
          "iopub.status.idle": "2023-05-31T06:07:15.826495Z",
          "shell.execute_reply": "2023-05-31T06:07:15.825666Z"
        },
        "papermill": {
          "duration": 0.019602,
          "end_time": "2023-05-31T06:07:15.828487",
          "exception": false,
          "start_time": "2023-05-31T06:07:15.808885",
          "status": "completed"
        },
        "tags": [],
        "id": "bab092ae"
      },
      "outputs": [],
      "source": [
        "def encoder_layer(units, d_model, num_heads, dropout, name=\"encoder_layer\"):\n",
        "  inputs = tf.keras.Input(shape=(None, d_model), name=\"inputs\")\n",
        "  padding_mask = tf.keras.Input(shape=(1, 1, None), name=\"padding_mask\")\n",
        "\n",
        "  attention = MultiHeadAttention(\n",
        "      d_model, num_heads, name=\"attention\")({\n",
        "          'query': inputs,\n",
        "          'key': inputs,\n",
        "          'value': inputs,\n",
        "          'mask': padding_mask\n",
        "      })\n",
        "  attention = tf.keras.layers.Dropout(rate=dropout)(attention)\n",
        "  attention = tf.keras.layers.LayerNormalization(\n",
        "      epsilon=1e-6)(inputs + attention)\n",
        "\n",
        "  outputs = tf.keras.layers.Dense(units=units, activation='relu')(attention)\n",
        "  outputs = tf.keras.layers.Dense(units=d_model)(outputs)\n",
        "  outputs = tf.keras.layers.Dropout(rate=dropout)(outputs)\n",
        "  outputs = tf.keras.layers.LayerNormalization(\n",
        "      epsilon=1e-6)(attention + outputs)\n",
        "\n",
        "  return tf.keras.Model(\n",
        "      inputs=[inputs, padding_mask], outputs=outputs, name=name)"
      ]
    },
    {
      "cell_type": "code",
      "execution_count": null,
      "id": "3ebf5218",
      "metadata": {
        "execution": {
          "iopub.execute_input": "2023-05-31T06:07:15.845581Z",
          "iopub.status.busy": "2023-05-31T06:07:15.844842Z",
          "iopub.status.idle": "2023-05-31T06:07:15.852849Z",
          "shell.execute_reply": "2023-05-31T06:07:15.852055Z"
        },
        "papermill": {
          "duration": 0.018829,
          "end_time": "2023-05-31T06:07:15.854979",
          "exception": false,
          "start_time": "2023-05-31T06:07:15.836150",
          "status": "completed"
        },
        "tags": [],
        "id": "3ebf5218"
      },
      "outputs": [],
      "source": [
        "def encoder(vocab_size,\n",
        "            num_layers,\n",
        "            units,\n",
        "            d_model,\n",
        "            num_heads,\n",
        "            dropout,\n",
        "            name=\"encoder\"):\n",
        "  inputs = tf.keras.Input(shape=(None,), name=\"inputs\")\n",
        "  padding_mask = tf.keras.Input(shape=(1, 1, None), name=\"padding_mask\")\n",
        "\n",
        "  embeddings = tf.keras.layers.Embedding(vocab_size, d_model)(inputs)\n",
        "  embeddings *= tf.math.sqrt(tf.cast(d_model, tf.float32))\n",
        "  embeddings = PositionalEncoding(vocab_size, d_model)(embeddings)\n",
        "\n",
        "  outputs = tf.keras.layers.Dropout(rate=dropout)(embeddings)\n",
        "  for i in range(int(num_layers)):\n",
        "    outputs = encoder_layer(\n",
        "        units=units,\n",
        "        d_model=d_model,\n",
        "        num_heads=num_heads,\n",
        "        dropout=dropout,\n",
        "        name=\"encoder_layer_{}\".format(i),\n",
        "    )([outputs, padding_mask])\n",
        "\n",
        "  return tf.keras.Model(\n",
        "      inputs=[inputs, padding_mask], outputs=outputs, name=name)"
      ]
    },
    {
      "cell_type": "code",
      "execution_count": null,
      "id": "a8e29730",
      "metadata": {
        "execution": {
          "iopub.execute_input": "2023-05-31T06:07:15.872176Z",
          "iopub.status.busy": "2023-05-31T06:07:15.871426Z",
          "iopub.status.idle": "2023-05-31T06:07:15.881805Z",
          "shell.execute_reply": "2023-05-31T06:07:15.880975Z"
        },
        "papermill": {
          "duration": 0.021227,
          "end_time": "2023-05-31T06:07:15.883935",
          "exception": false,
          "start_time": "2023-05-31T06:07:15.862708",
          "status": "completed"
        },
        "tags": [],
        "id": "a8e29730"
      },
      "outputs": [],
      "source": [
        "def decoder_layer(units, d_model, num_heads, dropout, name=\"decoder_layer\"):\n",
        "  inputs = tf.keras.Input(shape=(None, d_model), name=\"inputs\")\n",
        "  enc_outputs = tf.keras.Input(shape=(None, d_model), name=\"encoder_outputs\")\n",
        "  look_ahead_mask = tf.keras.Input(\n",
        "      shape=(1, None, None), name=\"look_ahead_mask\")\n",
        "  padding_mask = tf.keras.Input(shape=(1, 1, None), name='padding_mask')\n",
        "\n",
        "  attention1 = MultiHeadAttention(\n",
        "      d_model, num_heads, name=\"attention_1\")(inputs={\n",
        "          'query': inputs,\n",
        "          'key': inputs,\n",
        "          'value': inputs,\n",
        "          'mask': look_ahead_mask\n",
        "      })\n",
        "  attention1 = tf.keras.layers.LayerNormalization(\n",
        "      epsilon=1e-6)(attention1 + inputs)\n",
        "\n",
        "  attention2 = MultiHeadAttention(\n",
        "      d_model, num_heads, name=\"attention_2\")(inputs={\n",
        "          'query': attention1,\n",
        "          'key': enc_outputs,\n",
        "          'value': enc_outputs,\n",
        "          'mask': padding_mask\n",
        "      })\n",
        "  attention2 = tf.keras.layers.Dropout(rate=dropout)(attention2)\n",
        "  attention2 = tf.keras.layers.LayerNormalization(\n",
        "      epsilon=1e-6)(attention2 + attention1)\n",
        "\n",
        "  outputs = tf.keras.layers.Dense(units=units, activation='relu')(attention2)\n",
        "  outputs = tf.keras.layers.Dense(units=d_model)(outputs)\n",
        "  outputs = tf.keras.layers.Dropout(rate=dropout)(outputs)\n",
        "  outputs = tf.keras.layers.LayerNormalization(\n",
        "      epsilon=1e-6)(outputs + attention2)\n",
        "\n",
        "  return tf.keras.Model(\n",
        "      inputs=[inputs, enc_outputs, look_ahead_mask, padding_mask],\n",
        "      outputs=outputs,\n",
        "      name=name)"
      ]
    },
    {
      "cell_type": "code",
      "execution_count": null,
      "id": "aebcc68f",
      "metadata": {
        "execution": {
          "iopub.execute_input": "2023-05-31T06:07:15.901288Z",
          "iopub.status.busy": "2023-05-31T06:07:15.900541Z",
          "iopub.status.idle": "2023-05-31T06:07:15.909742Z",
          "shell.execute_reply": "2023-05-31T06:07:15.908928Z"
        },
        "papermill": {
          "duration": 0.020214,
          "end_time": "2023-05-31T06:07:15.911910",
          "exception": false,
          "start_time": "2023-05-31T06:07:15.891696",
          "status": "completed"
        },
        "tags": [],
        "id": "aebcc68f"
      },
      "outputs": [],
      "source": [
        "def decoder(vocab_size,\n",
        "            num_layers,\n",
        "            units,\n",
        "            d_model,\n",
        "            num_heads,\n",
        "            dropout,\n",
        "            name='decoder'):\n",
        "  inputs = tf.keras.Input(shape=(None,), name='inputs')\n",
        "  enc_outputs = tf.keras.Input(shape=(None, d_model), name='encoder_outputs')\n",
        "  look_ahead_mask = tf.keras.Input(\n",
        "      shape=(1, None, None), name='look_ahead_mask')\n",
        "  padding_mask = tf.keras.Input(shape=(1, 1, None), name='padding_mask')\n",
        "\n",
        "  embeddings = tf.keras.layers.Embedding(vocab_size, d_model)(inputs)\n",
        "  embeddings *= tf.math.sqrt(tf.cast(d_model, tf.float32))\n",
        "  embeddings = PositionalEncoding(vocab_size, d_model)(embeddings)\n",
        "\n",
        "  outputs = tf.keras.layers.Dropout(rate=dropout)(embeddings)\n",
        "\n",
        "  for i in range(int(num_layers)):\n",
        "    outputs = decoder_layer(\n",
        "        units=units,\n",
        "        d_model=d_model,\n",
        "        num_heads=num_heads,\n",
        "        dropout=dropout,\n",
        "        name='decoder_layer_{}'.format(i),\n",
        "    )(inputs=[outputs, enc_outputs, look_ahead_mask, padding_mask])\n",
        "\n",
        "  return tf.keras.Model(\n",
        "      inputs=[inputs, enc_outputs, look_ahead_mask, padding_mask],\n",
        "      outputs=outputs,\n",
        "      name=name)"
      ]
    },
    {
      "cell_type": "code",
      "execution_count": null,
      "id": "eca8a160",
      "metadata": {
        "execution": {
          "iopub.execute_input": "2023-05-31T06:07:15.929365Z",
          "iopub.status.busy": "2023-05-31T06:07:15.928644Z",
          "iopub.status.idle": "2023-05-31T06:07:15.938660Z",
          "shell.execute_reply": "2023-05-31T06:07:15.937750Z"
        },
        "papermill": {
          "duration": 0.020928,
          "end_time": "2023-05-31T06:07:15.940787",
          "exception": false,
          "start_time": "2023-05-31T06:07:15.919859",
          "status": "completed"
        },
        "tags": [],
        "id": "eca8a160"
      },
      "outputs": [],
      "source": [
        "def transformer(vocab_size,\n",
        "                num_layers,\n",
        "                units,\n",
        "                d_model,\n",
        "                num_heads,\n",
        "                dropout,\n",
        "                name=\"transformer\"):\n",
        "  inputs = tf.keras.Input(shape=(None,), name=\"inputs\")\n",
        "  dec_inputs = tf.keras.Input(shape=(None,), name=\"dec_inputs\")\n",
        "\n",
        "  enc_padding_mask = tf.keras.layers.Lambda(\n",
        "      create_padding_mask, output_shape=(1, 1, None),\n",
        "      name='enc_padding_mask')(inputs)\n",
        "  # mask the future tokens for decoder inputs at the 1st attention block\n",
        "  look_ahead_mask = tf.keras.layers.Lambda(\n",
        "      create_look_ahead_mask,\n",
        "      output_shape=(1, None, None),\n",
        "      name='look_ahead_mask')(dec_inputs)\n",
        "  # mask the encoder outputs for the 2nd attention block\n",
        "  dec_padding_mask = tf.keras.layers.Lambda(\n",
        "      create_padding_mask, output_shape=(1, 1, None),\n",
        "      name='dec_padding_mask')(inputs)\n",
        "\n",
        "  enc_outputs = encoder(\n",
        "      vocab_size=vocab_size,\n",
        "      num_layers=num_layers,\n",
        "      units=units,\n",
        "      d_model=d_model,\n",
        "      num_heads=num_heads,\n",
        "      dropout=dropout,\n",
        "  )(inputs=[inputs, enc_padding_mask])\n",
        "\n",
        "  dec_outputs = decoder(\n",
        "      vocab_size=vocab_size,\n",
        "      num_layers=num_layers,\n",
        "      units=units,\n",
        "      d_model=d_model,\n",
        "      num_heads=num_heads,\n",
        "      dropout=dropout,\n",
        "  )(inputs=[dec_inputs, enc_outputs, look_ahead_mask, dec_padding_mask])\n",
        "\n",
        "  outputs = tf.keras.layers.Dense(units=vocab_size, name=\"outputs\")(dec_outputs)\n",
        "\n",
        "  return tf.keras.Model(inputs=[inputs, dec_inputs], outputs=outputs, name=name)"
      ]
    },
    {
      "cell_type": "code",
      "execution_count": null,
      "id": "e67c88d3",
      "metadata": {
        "execution": {
          "iopub.execute_input": "2023-05-31T06:07:15.958009Z",
          "iopub.status.busy": "2023-05-31T06:07:15.957269Z",
          "iopub.status.idle": "2023-05-31T06:07:15.963052Z",
          "shell.execute_reply": "2023-05-31T06:07:15.962267Z"
        },
        "papermill": {
          "duration": 0.016634,
          "end_time": "2023-05-31T06:07:15.965185",
          "exception": false,
          "start_time": "2023-05-31T06:07:15.948551",
          "status": "completed"
        },
        "tags": [],
        "id": "e67c88d3"
      },
      "outputs": [],
      "source": [
        "def loss_function(y_true, y_pred):\n",
        "  y_true = tf.reshape(y_true, shape=(-1, MAX_LENGTH - 1))\n",
        "\n",
        "  loss = tf.keras.losses.SparseCategoricalCrossentropy(\n",
        "      from_logits=True, reduction='none')(y_true, y_pred)\n",
        "\n",
        "  mask = tf.cast(tf.not_equal(y_true, 0), tf.float32)\n",
        "  loss = tf.multiply(loss, mask)\n",
        "\n",
        "  return tf.reduce_mean(loss)"
      ]
    },
    {
      "cell_type": "code",
      "execution_count": null,
      "id": "c24d9770",
      "metadata": {
        "execution": {
          "iopub.execute_input": "2023-05-31T06:07:15.982265Z",
          "iopub.status.busy": "2023-05-31T06:07:15.981569Z",
          "iopub.status.idle": "2023-05-31T06:07:15.988176Z",
          "shell.execute_reply": "2023-05-31T06:07:15.987356Z"
        },
        "papermill": {
          "duration": 0.017782,
          "end_time": "2023-05-31T06:07:15.990398",
          "exception": false,
          "start_time": "2023-05-31T06:07:15.972616",
          "status": "completed"
        },
        "tags": [],
        "id": "c24d9770"
      },
      "outputs": [],
      "source": [
        "class CustomSchedule(tf.keras.optimizers.schedules.LearningRateSchedule):\n",
        "\n",
        "  def __init__(self, d_model, warmup_steps=4000):\n",
        "    super(CustomSchedule, self).__init__()\n",
        "\n",
        "    self.d_model = d_model\n",
        "    self.d_model = tf.cast(self.d_model, tf.float32)\n",
        "\n",
        "    self.warmup_steps = warmup_steps\n",
        "\n",
        "  def __call__(self, step):\n",
        "    arg1 = tf.math.rsqrt(step)\n",
        "    arg2 = step * (self.warmup_steps**-1.5)\n",
        "\n",
        "    return tf.math.rsqrt(self.d_model) * tf.math.minimum(arg1, arg2)"
      ]
    },
    {
      "cell_type": "code",
      "execution_count": null,
      "id": "5b2052f6",
      "metadata": {
        "execution": {
          "iopub.execute_input": "2023-05-31T06:07:16.007399Z",
          "iopub.status.busy": "2023-05-31T06:07:16.006669Z",
          "iopub.status.idle": "2023-05-31T06:07:16.037507Z",
          "shell.execute_reply": "2023-05-31T06:07:16.036714Z"
        },
        "papermill": {
          "duration": 0.041688,
          "end_time": "2023-05-31T06:07:16.039567",
          "exception": false,
          "start_time": "2023-05-31T06:07:15.997879",
          "status": "completed"
        },
        "tags": [],
        "id": "5b2052f6"
      },
      "outputs": [],
      "source": [
        "# clear backend\n",
        "tf.keras.backend.clear_session()\n",
        "\n",
        "learning_rate = CustomSchedule(D_MODEL)\n",
        "\n",
        "# optimizer = tf.keras.optimizers.Adam(learning_rate, beta_1=0.9, beta_2=0.98, epsilon=1e-9)\n",
        "\n",
        "optimizer = tf.keras.optimizers.Adam()\n",
        "\n",
        "def accuracy(y_true, y_pred):\n",
        "  # ensure labels have shape (batch_size, MAX_LENGTH - 1)\n",
        "  y_true = tf.reshape(y_true, shape=(-1, MAX_LENGTH - 1))\n",
        "  return tf.keras.metrics.sparse_categorical_accuracy(y_true, y_pred)"
      ]
    },
    {
      "cell_type": "code",
      "execution_count": null,
      "id": "69627958",
      "metadata": {
        "execution": {
          "iopub.execute_input": "2023-05-31T06:07:16.056585Z",
          "iopub.status.busy": "2023-05-31T06:07:16.055820Z",
          "iopub.status.idle": "2023-05-31T06:07:19.154337Z",
          "shell.execute_reply": "2023-05-31T06:07:19.153464Z"
        },
        "papermill": {
          "duration": 3.120615,
          "end_time": "2023-05-31T06:07:19.167967",
          "exception": false,
          "start_time": "2023-05-31T06:07:16.047352",
          "status": "completed"
        },
        "tags": [],
        "id": "69627958",
        "outputId": "e1dbbaf7-6bbb-404c-f007-d40572994c9a"
      },
      "outputs": [
        {
          "name": "stdout",
          "output_type": "stream",
          "text": [
            "Model: \"transformer\"\n",
            "__________________________________________________________________________________________________\n",
            " Layer (type)                   Output Shape         Param #     Connected to                     \n",
            "==================================================================================================\n",
            " inputs (InputLayer)            [(None, None)]       0           []                               \n",
            "                                                                                                  \n",
            " dec_inputs (InputLayer)        [(None, None)]       0           []                               \n",
            "                                                                                                  \n",
            " enc_padding_mask (Lambda)      (None, 1, 1, None)   0           ['inputs[0][0]']                 \n",
            "                                                                                                  \n",
            " encoder (Functional)           (None, None, 256)    1988608     ['inputs[0][0]',                 \n",
            "                                                                  'enc_padding_mask[0][0]']       \n",
            "                                                                                                  \n",
            " look_ahead_mask (Lambda)       (None, 1, None, Non  0           ['dec_inputs[0][0]']             \n",
            "                                e)                                                                \n",
            "                                                                                                  \n",
            " dec_padding_mask (Lambda)      (None, 1, 1, None)   0           ['inputs[0][0]']                 \n",
            "                                                                                                  \n",
            " decoder (Functional)           (None, None, 256)    2515968     ['dec_inputs[0][0]',             \n",
            "                                                                  'encoder[0][0]',                \n",
            "                                                                  'look_ahead_mask[0][0]',        \n",
            "                                                                  'dec_padding_mask[0][0]']       \n",
            "                                                                                                  \n",
            " outputs (Dense)                (None, None, 3650)   938050      ['decoder[0][0]']                \n",
            "                                                                                                  \n",
            "==================================================================================================\n",
            "Total params: 5,442,626\n",
            "Trainable params: 5,442,626\n",
            "Non-trainable params: 0\n",
            "__________________________________________________________________________________________________\n"
          ]
        }
      ],
      "source": [
        "# initialize and compile model within strategy scope\n",
        "with strategy.scope():\n",
        "  model = transformer(\n",
        "      vocab_size=VOCAB_SIZE,\n",
        "      num_layers=NUM_LAYERS,\n",
        "      units=UNITS,\n",
        "      d_model=D_MODEL,\n",
        "      num_heads=NUM_HEADS,\n",
        "      dropout=DROPOUT)\n",
        "\n",
        "  model.compile(optimizer=optimizer, loss=loss_function, metrics=[accuracy])\n",
        "\n",
        "model.summary()"
      ]
    },
    {
      "cell_type": "code",
      "execution_count": null,
      "id": "5954fbb3",
      "metadata": {
        "execution": {
          "iopub.execute_input": "2023-05-31T06:07:19.189225Z",
          "iopub.status.busy": "2023-05-31T06:07:19.188939Z",
          "iopub.status.idle": "2023-05-31T06:22:03.051500Z",
          "shell.execute_reply": "2023-05-31T06:22:03.050482Z"
        },
        "papermill": {
          "duration": 883.875523,
          "end_time": "2023-05-31T06:22:03.053752",
          "exception": false,
          "start_time": "2023-05-31T06:07:19.178229",
          "status": "completed"
        },
        "tags": [],
        "id": "5954fbb3",
        "outputId": "21dc5a84-c01b-4ebf-af48-c59a62a72435"
      },
      "outputs": [
        {
          "name": "stdout",
          "output_type": "stream",
          "text": [
            "Epoch 1/100\n",
            "59/59 [==============================] - 48s 359ms/step - loss: 0.4654 - accuracy: 0.0108\n",
            "Epoch 2/100\n",
            "59/59 [==============================] - 12s 206ms/step - loss: 0.4034 - accuracy: 0.0145\n",
            "Epoch 3/100\n",
            "59/59 [==============================] - 9s 153ms/step - loss: 0.3618 - accuracy: 0.0176\n",
            "Epoch 4/100\n",
            "59/59 [==============================] - 9s 146ms/step - loss: 0.3280 - accuracy: 0.0202\n",
            "Epoch 5/100\n",
            "59/59 [==============================] - 9s 147ms/step - loss: 0.2983 - accuracy: 0.0226\n",
            "Epoch 6/100\n",
            "59/59 [==============================] - 8s 134ms/step - loss: 0.2700 - accuracy: 0.0251\n",
            "Epoch 7/100\n",
            "59/59 [==============================] - 8s 131ms/step - loss: 0.2426 - accuracy: 0.0280\n",
            "Epoch 8/100\n",
            "59/59 [==============================] - 8s 139ms/step - loss: 0.2150 - accuracy: 0.0315\n",
            "Epoch 9/100\n",
            "59/59 [==============================] - 8s 133ms/step - loss: 0.1870 - accuracy: 0.0359\n",
            "Epoch 10/100\n",
            "59/59 [==============================] - 7s 125ms/step - loss: 0.1607 - accuracy: 0.0408\n",
            "Epoch 11/100\n",
            "59/59 [==============================] - 7s 122ms/step - loss: 0.1355 - accuracy: 0.0455\n",
            "Epoch 12/100\n",
            "59/59 [==============================] - 8s 133ms/step - loss: 0.1135 - accuracy: 0.0503\n",
            "Epoch 13/100\n",
            "59/59 [==============================] - 8s 132ms/step - loss: 0.0928 - accuracy: 0.0545\n",
            "Epoch 14/100\n",
            "59/59 [==============================] - 7s 123ms/step - loss: 0.0762 - accuracy: 0.0578\n",
            "Epoch 15/100\n",
            "59/59 [==============================] - 8s 135ms/step - loss: 0.0644 - accuracy: 0.0604\n",
            "Epoch 16/100\n",
            "59/59 [==============================] - 8s 128ms/step - loss: 0.0543 - accuracy: 0.0626\n",
            "Epoch 17/100\n",
            "59/59 [==============================] - 7s 123ms/step - loss: 0.0459 - accuracy: 0.0647\n",
            "Epoch 18/100\n",
            "59/59 [==============================] - 7s 126ms/step - loss: 0.0389 - accuracy: 0.0662\n",
            "Epoch 19/100\n",
            "59/59 [==============================] - 8s 127ms/step - loss: 0.0334 - accuracy: 0.0676\n",
            "Epoch 20/100\n",
            "59/59 [==============================] - 8s 128ms/step - loss: 0.0295 - accuracy: 0.0686\n",
            "Epoch 21/100\n",
            "59/59 [==============================] - 7s 127ms/step - loss: 0.0254 - accuracy: 0.0696\n",
            "Epoch 22/100\n",
            "59/59 [==============================] - 8s 128ms/step - loss: 0.0229 - accuracy: 0.0702\n",
            "Epoch 23/100\n",
            "59/59 [==============================] - 8s 128ms/step - loss: 0.0209 - accuracy: 0.0707\n",
            "Epoch 24/100\n",
            "59/59 [==============================] - 8s 129ms/step - loss: 0.0199 - accuracy: 0.0709\n",
            "Epoch 25/100\n",
            "59/59 [==============================] - 7s 123ms/step - loss: 0.0183 - accuracy: 0.0713\n",
            "Epoch 26/100\n",
            "59/59 [==============================] - 7s 124ms/step - loss: 0.0171 - accuracy: 0.0716\n",
            "Epoch 27/100\n",
            "59/59 [==============================] - 7s 127ms/step - loss: 0.0159 - accuracy: 0.0720\n",
            "Epoch 28/100\n",
            "59/59 [==============================] - 8s 132ms/step - loss: 0.0150 - accuracy: 0.0722\n",
            "Epoch 29/100\n",
            "59/59 [==============================] - 7s 125ms/step - loss: 0.0142 - accuracy: 0.0724\n",
            "Epoch 30/100\n",
            "59/59 [==============================] - 7s 125ms/step - loss: 0.0140 - accuracy: 0.0724\n",
            "Epoch 31/100\n",
            "59/59 [==============================] - 7s 123ms/step - loss: 0.0140 - accuracy: 0.0723\n",
            "Epoch 32/100\n",
            "59/59 [==============================] - 7s 125ms/step - loss: 0.0138 - accuracy: 0.0724\n",
            "Epoch 33/100\n",
            "59/59 [==============================] - 7s 124ms/step - loss: 0.0147 - accuracy: 0.0721\n",
            "Epoch 34/100\n",
            "59/59 [==============================] - 7s 126ms/step - loss: 0.0152 - accuracy: 0.0720\n",
            "Epoch 35/100\n",
            "59/59 [==============================] - 8s 129ms/step - loss: 0.0135 - accuracy: 0.0724\n",
            "Epoch 36/100\n",
            "59/59 [==============================] - 7s 125ms/step - loss: 0.0130 - accuracy: 0.0726\n",
            "Epoch 37/100\n",
            "59/59 [==============================] - 8s 129ms/step - loss: 0.0125 - accuracy: 0.0727\n",
            "Epoch 38/100\n",
            "59/59 [==============================] - 7s 125ms/step - loss: 0.0122 - accuracy: 0.0727\n",
            "Epoch 39/100\n",
            "59/59 [==============================] - 8s 127ms/step - loss: 0.0122 - accuracy: 0.0727\n",
            "Epoch 40/100\n",
            "59/59 [==============================] - 7s 124ms/step - loss: 0.0128 - accuracy: 0.0726\n",
            "Epoch 41/100\n",
            "59/59 [==============================] - 7s 125ms/step - loss: 0.0127 - accuracy: 0.0726\n",
            "Epoch 42/100\n",
            "59/59 [==============================] - 7s 126ms/step - loss: 0.0136 - accuracy: 0.0723\n",
            "Epoch 43/100\n",
            "59/59 [==============================] - 7s 126ms/step - loss: 0.0135 - accuracy: 0.0722\n",
            "Epoch 44/100\n",
            "59/59 [==============================] - 7s 126ms/step - loss: 0.0131 - accuracy: 0.0724\n",
            "Epoch 45/100\n",
            "59/59 [==============================] - 7s 122ms/step - loss: 0.0136 - accuracy: 0.0722\n",
            "Epoch 46/100\n",
            "59/59 [==============================] - 7s 123ms/step - loss: 0.0125 - accuracy: 0.0725\n",
            "Epoch 47/100\n",
            "59/59 [==============================] - 7s 125ms/step - loss: 0.0123 - accuracy: 0.0726\n",
            "Epoch 48/100\n",
            "59/59 [==============================] - 7s 126ms/step - loss: 0.0117 - accuracy: 0.0728\n",
            "Epoch 49/100\n",
            "59/59 [==============================] - 7s 121ms/step - loss: 0.0118 - accuracy: 0.0728\n",
            "Epoch 50/100\n",
            "59/59 [==============================] - 7s 125ms/step - loss: 0.0127 - accuracy: 0.0724\n",
            "Epoch 51/100\n",
            "59/59 [==============================] - 7s 123ms/step - loss: 0.0128 - accuracy: 0.0724\n",
            "Epoch 52/100\n",
            "59/59 [==============================] - 7s 123ms/step - loss: 0.0114 - accuracy: 0.0729\n",
            "Epoch 53/100\n",
            "59/59 [==============================] - 7s 123ms/step - loss: 0.0102 - accuracy: 0.0731\n",
            "Epoch 54/100\n",
            "59/59 [==============================] - 7s 125ms/step - loss: 0.0103 - accuracy: 0.0733\n",
            "Epoch 55/100\n",
            "59/59 [==============================] - 7s 124ms/step - loss: 0.0098 - accuracy: 0.0733\n",
            "Epoch 56/100\n",
            "59/59 [==============================] - 7s 125ms/step - loss: 0.0101 - accuracy: 0.0733\n",
            "Epoch 57/100\n",
            "59/59 [==============================] - 7s 126ms/step - loss: 0.0100 - accuracy: 0.0733\n",
            "Epoch 58/100\n",
            "59/59 [==============================] - 7s 125ms/step - loss: 0.0104 - accuracy: 0.0731\n",
            "Epoch 59/100\n",
            "59/59 [==============================] - 7s 121ms/step - loss: 0.0099 - accuracy: 0.0734\n",
            "Epoch 60/100\n",
            "59/59 [==============================] - 7s 121ms/step - loss: 0.0097 - accuracy: 0.0733\n",
            "Epoch 61/100\n",
            "59/59 [==============================] - 7s 126ms/step - loss: 0.0097 - accuracy: 0.0733\n",
            "Epoch 62/100\n",
            "59/59 [==============================] - 7s 125ms/step - loss: 0.0092 - accuracy: 0.0734\n",
            "Epoch 63/100\n",
            "59/59 [==============================] - 7s 127ms/step - loss: 0.0105 - accuracy: 0.0732\n",
            "Epoch 64/100\n",
            "59/59 [==============================] - 7s 121ms/step - loss: 0.0098 - accuracy: 0.0733\n",
            "Epoch 65/100\n",
            "59/59 [==============================] - 7s 124ms/step - loss: 0.0098 - accuracy: 0.0733\n",
            "Epoch 66/100\n",
            "59/59 [==============================] - 7s 126ms/step - loss: 0.0085 - accuracy: 0.0737\n",
            "Epoch 67/100\n",
            "59/59 [==============================] - 7s 121ms/step - loss: 0.0096 - accuracy: 0.0733\n",
            "Epoch 68/100\n",
            "59/59 [==============================] - 8s 128ms/step - loss: 0.0109 - accuracy: 0.0729\n",
            "Epoch 69/100\n",
            "59/59 [==============================] - 7s 120ms/step - loss: 0.0100 - accuracy: 0.0731\n",
            "Epoch 70/100\n",
            "59/59 [==============================] - 7s 122ms/step - loss: 0.0108 - accuracy: 0.0730\n",
            "Epoch 71/100\n",
            "59/59 [==============================] - 7s 125ms/step - loss: 0.0111 - accuracy: 0.0728\n",
            "Epoch 72/100\n",
            "59/59 [==============================] - 7s 125ms/step - loss: 0.0117 - accuracy: 0.0726\n",
            "Epoch 73/100\n",
            "59/59 [==============================] - 7s 120ms/step - loss: 0.0102 - accuracy: 0.0732\n",
            "Epoch 74/100\n",
            "59/59 [==============================] - 7s 123ms/step - loss: 0.0106 - accuracy: 0.0730\n",
            "Epoch 75/100\n",
            "59/59 [==============================] - 7s 123ms/step - loss: 0.0109 - accuracy: 0.0729\n",
            "Epoch 76/100\n",
            "59/59 [==============================] - 7s 121ms/step - loss: 0.0110 - accuracy: 0.0728\n",
            "Epoch 77/100\n",
            "59/59 [==============================] - 7s 120ms/step - loss: 0.0096 - accuracy: 0.0733\n",
            "Epoch 78/100\n",
            "59/59 [==============================] - 7s 122ms/step - loss: 0.0088 - accuracy: 0.0734\n",
            "Epoch 79/100\n",
            "59/59 [==============================] - 7s 120ms/step - loss: 0.0083 - accuracy: 0.0736\n",
            "Epoch 80/100\n",
            "59/59 [==============================] - 7s 124ms/step - loss: 0.0078 - accuracy: 0.0738\n",
            "Epoch 81/100\n",
            "59/59 [==============================] - 8s 128ms/step - loss: 0.0085 - accuracy: 0.0736\n",
            "Epoch 82/100\n",
            "59/59 [==============================] - 7s 122ms/step - loss: 0.0092 - accuracy: 0.0733\n",
            "Epoch 83/100\n",
            "59/59 [==============================] - 7s 125ms/step - loss: 0.0085 - accuracy: 0.0736\n",
            "Epoch 84/100\n",
            "59/59 [==============================] - 7s 120ms/step - loss: 0.0080 - accuracy: 0.0738\n",
            "Epoch 85/100\n",
            "59/59 [==============================] - 7s 123ms/step - loss: 0.0082 - accuracy: 0.0736\n",
            "Epoch 86/100\n",
            "59/59 [==============================] - 7s 121ms/step - loss: 0.0085 - accuracy: 0.0735\n",
            "Epoch 87/100\n",
            "59/59 [==============================] - 7s 121ms/step - loss: 0.0089 - accuracy: 0.0734\n",
            "Epoch 88/100\n",
            "59/59 [==============================] - 7s 124ms/step - loss: 0.0085 - accuracy: 0.0735\n",
            "Epoch 89/100\n",
            "59/59 [==============================] - 7s 124ms/step - loss: 0.0089 - accuracy: 0.0734\n",
            "Epoch 90/100\n",
            "59/59 [==============================] - 7s 121ms/step - loss: 0.0090 - accuracy: 0.0734\n",
            "Epoch 91/100\n",
            "59/59 [==============================] - 7s 123ms/step - loss: 0.0090 - accuracy: 0.0733\n",
            "Epoch 92/100\n",
            "59/59 [==============================] - 7s 120ms/step - loss: 0.0095 - accuracy: 0.0732\n",
            "Epoch 93/100\n",
            "59/59 [==============================] - 7s 125ms/step - loss: 0.0119 - accuracy: 0.0726\n",
            "Epoch 94/100\n",
            "59/59 [==============================] - 7s 121ms/step - loss: 0.0116 - accuracy: 0.0727\n",
            "Epoch 95/100\n",
            "59/59 [==============================] - 7s 120ms/step - loss: 0.0113 - accuracy: 0.0725\n",
            "Epoch 96/100\n",
            "59/59 [==============================] - 7s 123ms/step - loss: 0.0106 - accuracy: 0.0729\n",
            "Epoch 97/100\n",
            "59/59 [==============================] - 7s 123ms/step - loss: 0.0105 - accuracy: 0.0730\n",
            "Epoch 98/100\n",
            "59/59 [==============================] - 7s 123ms/step - loss: 0.0101 - accuracy: 0.0730\n",
            "Epoch 99/100\n",
            "59/59 [==============================] - 7s 120ms/step - loss: 0.0101 - accuracy: 0.0730\n",
            "Epoch 100/100\n",
            "59/59 [==============================] - 7s 127ms/step - loss: 0.0104 - accuracy: 0.0729\n"
          ]
        },
        {
          "data": {
            "text/plain": [
              "<keras.callbacks.History at 0x7f5504ca5150>"
            ]
          },
          "execution_count": 21,
          "metadata": {},
          "output_type": "execute_result"
        }
      ],
      "source": [
        "import datetime\n",
        "\n",
        "#32% - 80 epok, po 30 epokach - 29\n",
        "\n",
        "logdir = os.path.join(\"logs\", datetime.datetime.now().strftime(\"%Y%m%d-%H%M%S\"))\n",
        "tensorboard_callback = tf.keras.callbacks.TensorBoard(logdir, histogram_freq=1)\n",
        "\n",
        "model.fit(dataset, epochs=100, callbacks = [tensorboard_callback])"
      ]
    },
    {
      "cell_type": "code",
      "execution_count": null,
      "id": "62e3479c",
      "metadata": {
        "execution": {
          "iopub.execute_input": "2023-05-31T06:22:03.998153Z",
          "iopub.status.busy": "2023-05-31T06:22:03.997799Z",
          "iopub.status.idle": "2023-05-31T06:22:04.007139Z",
          "shell.execute_reply": "2023-05-31T06:22:04.006046Z"
        },
        "papermill": {
          "duration": 0.48276,
          "end_time": "2023-05-31T06:22:04.009630",
          "exception": false,
          "start_time": "2023-05-31T06:22:03.526870",
          "status": "completed"
        },
        "tags": [],
        "id": "62e3479c"
      },
      "outputs": [],
      "source": [
        "def evaluate(sentence, model):\n",
        "#   sentence = textPreprocess(sentence)\n",
        "\n",
        "  sentence = tf.expand_dims(\n",
        "      START_TOKEN + tokenizer.encode(sentence) + END_TOKEN, axis=0)\n",
        "\n",
        "  output = tf.expand_dims(START_TOKEN, 0)\n",
        "\n",
        "  for i in range(MAX_LENGTH):\n",
        "    predictions = model(inputs=[sentence, output], training=False)\n",
        "\n",
        "    # select the last word from the seq_len dimension\n",
        "    predictions = predictions[:, -1:, :]\n",
        "    predicted_id = tf.cast(tf.argmax(predictions, axis=-1), tf.int32)\n",
        "\n",
        "\n",
        "    # return the result if the predicted_id is equal to the end token\n",
        "    if tf.equal(predicted_id, END_TOKEN[0]):\n",
        "      break\n",
        "\n",
        "    # concatenated the predicted_id to the output which is given to the decoder\n",
        "    # as its input.\n",
        "    output = tf.concat([output, predicted_id], axis=-1)\n",
        "\n",
        "  return tf.squeeze(output, axis=0)\n",
        "\n",
        "\n",
        "def predict(sentence,model):\n",
        "  prediction = evaluate(sentence,model)\n",
        "\n",
        "  predicted_sentence = tokenizer.decode(\n",
        "      [i for i in prediction if i < tokenizer.vocab_size])\n",
        "\n",
        "  print('Input: {}'.format(sentence))\n",
        "  print('Output: {}'.format(predicted_sentence))\n",
        "\n",
        "  return predicted_sentence"
      ]
    },
    {
      "cell_type": "code",
      "execution_count": null,
      "id": "16c8453e",
      "metadata": {
        "execution": {
          "iopub.execute_input": "2023-05-31T06:22:05.040832Z",
          "iopub.status.busy": "2023-05-31T06:22:05.040442Z",
          "iopub.status.idle": "2023-05-31T06:22:05.157675Z",
          "shell.execute_reply": "2023-05-31T06:22:05.156734Z"
        },
        "papermill": {
          "duration": 0.667359,
          "end_time": "2023-05-31T06:22:05.160272",
          "exception": false,
          "start_time": "2023-05-31T06:22:04.492913",
          "status": "completed"
        },
        "tags": [],
        "id": "16c8453e"
      },
      "outputs": [],
      "source": [
        "model.save_weights('saved_weights.h5')"
      ]
    },
    {
      "cell_type": "code",
      "execution_count": null,
      "id": "661b1d3d",
      "metadata": {
        "execution": {
          "iopub.execute_input": "2023-05-31T06:22:06.123833Z",
          "iopub.status.busy": "2023-05-31T06:22:06.122716Z",
          "iopub.status.idle": "2023-05-31T06:22:08.798018Z",
          "shell.execute_reply": "2023-05-31T06:22:08.797043Z"
        },
        "papermill": {
          "duration": 3.153881,
          "end_time": "2023-05-31T06:22:08.800720",
          "exception": false,
          "start_time": "2023-05-31T06:22:05.646839",
          "status": "completed"
        },
        "tags": [],
        "id": "661b1d3d"
      },
      "outputs": [],
      "source": [
        "loaded_model = transformer(\n",
        "      vocab_size=VOCAB_SIZE,\n",
        "      num_layers=NUM_LAYERS,\n",
        "      units=UNITS,\n",
        "      d_model=D_MODEL,\n",
        "      num_heads=NUM_HEADS,\n",
        "      dropout=DROPOUT)\n",
        "\n",
        "#import h5py\n",
        "#with h5py.File('saved_weights.h5', 'w') as f:\n",
        "loaded_model.compile(optimizer=optimizer, loss=loss_function, metrics=[accuracy])\n",
        "loaded_model.load_weights('saved_weights.h5')"
      ]
    },
    {
      "cell_type": "code",
      "execution_count": null,
      "id": "95fbce2a",
      "metadata": {
        "papermill": {
          "duration": 0.569287,
          "end_time": "2023-05-31T06:22:11.542187",
          "exception": false,
          "start_time": "2023-05-31T06:22:10.972900",
          "status": "completed"
        },
        "tags": [],
        "id": "95fbce2a"
      },
      "outputs": [],
      "source": []
    }
  ],
  "metadata": {
    "kernelspec": {
      "display_name": "Python 3",
      "language": "python",
      "name": "python3"
    },
    "language_info": {
      "codemirror_mode": {
        "name": "ipython",
        "version": 3
      },
      "file_extension": ".py",
      "mimetype": "text/x-python",
      "name": "python",
      "nbconvert_exporter": "python",
      "pygments_lexer": "ipython3",
      "version": "3.10.10"
    },
    "papermill": {
      "default_parameters": {},
      "duration": 944.254971,
      "end_time": "2023-05-31T06:22:15.877303",
      "environment_variables": {},
      "exception": null,
      "input_path": "__notebook__.ipynb",
      "output_path": "__notebook__.ipynb",
      "parameters": {},
      "start_time": "2023-05-31T06:06:31.622332",
      "version": "2.4.0"
    },
    "colab": {
      "provenance": []
    }
  },
  "nbformat": 4,
  "nbformat_minor": 5
}